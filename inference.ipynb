{
 "cells": [
  {
   "cell_type": "code",
   "execution_count": 1,
   "id": "43bd167a-c8c4-45c1-8bd5-526a564b95fc",
   "metadata": {},
   "outputs": [],
   "source": [
    "import numpy as np\n",
    "from tqdm import tqdm\n",
    "\n",
    "from pytorch_metric_learning import samplers, distances\n",
    "from pytorch_metric_learning.utils.inference import InferenceModel\n",
    "from pytorch_metric_learning.utils.inference import MatchFinder\n",
    "\n",
    "from data_processing.productset import ProductSet, ProductTestSet\n",
    "\n",
    "from data_processing.utils import read_data\n",
    "from models.encoder import Encoder\n",
    "from models.lit import LitSiamese\n",
    "from models.embedder import Embedder\n",
    "from utils import seed_everything\n",
    "from config import config"
   ]
  },
  {
   "cell_type": "code",
   "execution_count": 2,
   "id": "bf228c1d-0390-4558-9514-b0f0f8d3aee1",
   "metadata": {},
   "outputs": [],
   "source": [
    "def f1_score(y_true, y_pred):\n",
    "    y_true = y_true.apply(lambda x: set(x.split()))\n",
    "    y_pred = y_pred.apply(lambda x: set(x.split()))\n",
    "    intersection = np.array([len(x[0] & x[1]) for x in zip(y_true, y_pred)])\n",
    "    len_y_pred = y_pred.apply(lambda x: len(x)).values\n",
    "    len_y_true = y_true.apply(lambda x: len(x)).values\n",
    "    f1 = 2 * intersection / (len_y_pred + len_y_true)\n",
    "    return f1"
   ]
  },
  {
   "cell_type": "code",
   "execution_count": 3,
   "id": "4de34cff-9639-4cb8-b4b5-f3d29affeba0",
   "metadata": {},
   "outputs": [
    {
     "name": "stderr",
     "output_type": "stream",
     "text": [
      "Global seed set to 42\n"
     ]
    }
   ],
   "source": [
    "SEED = config[\"seed\"]\n",
    "MODEL = config[\"model\"]\n",
    "EMBEDDER = config[\"embedder\"]\n",
    "WANDB_ARGS = config[\"wandb\"]\n",
    "CONTINUE_FROM_CKPT = config[\"continue_from_ckpt\"]\n",
    "CKPT_PATH = config[\"ckpt_path\"]\n",
    "EPOCHS = config[\"epochs\"]\n",
    "LOG_EVERY_N_STEP = config[\"log_every_n_step\"]\n",
    "VAL_CHECK_INTERVAL = config[\"val_check_interval\"]\n",
    "\n",
    "seed_everything(SEED)"
   ]
  },
  {
   "cell_type": "code",
   "execution_count": 4,
   "id": "ff754e4f-26b5-4179-8674-8ec57b6e84f0",
   "metadata": {},
   "outputs": [
    {
     "name": "stderr",
     "output_type": "stream",
     "text": [
      "/home/alidar/Dev/product-matching/venv/lib/python3.8/site-packages/pytorch_lightning/utilities/parsing.py:261: UserWarning: Attribute 'encoder' is an instance of `nn.Module` and is already saved during checkpointing. It is recommended to ignore them using `self.save_hyperparameters(ignore=['encoder'])`.\n",
      "  rank_zero_warn(\n"
     ]
    }
   ],
   "source": [
    "embedder = Embedder(EMBEDDER)\n",
    "encoder = Encoder(embedder.emb_size)\n",
    "model = LitSiamese(encoder)\n",
    "\n",
    "model = LitSiamese.load_from_checkpoint(CKPT_PATH)\n",
    "model.eval();"
   ]
  },
  {
   "cell_type": "code",
   "execution_count": 5,
   "id": "9d229648-641c-48e6-9068-73b81a422adb",
   "metadata": {},
   "outputs": [],
   "source": [
    "match_finder = MatchFinder(distance=distances.LpDistance(normalize_embeddings=True, p=2, power=1), threshold=0.2)\n",
    "im = InferenceModel(model, data_device=\"cpu\", match_finder=match_finder)"
   ]
  },
  {
   "cell_type": "code",
   "execution_count": 6,
   "id": "8d3a5bb3-3106-4c4b-a2bb-9dbe3258a62c",
   "metadata": {},
   "outputs": [],
   "source": [
    "def get_predictions(data_path, test_data=False):\n",
    "    df = read_data(data_path, embedder, is_train=False)\n",
    "    # df = df.sample(frac=0.05)\n",
    "    # df = df[-5000:].copy()\n",
    "\n",
    "    if not test_data:\n",
    "        tmp = df.groupby(['label_group'])['posting_id'].unique().to_dict()\n",
    "        df['matches'] = df['label_group'].map(tmp)\n",
    "        df['matches'] = df['matches'].apply(lambda x: ' '.join(x))\n",
    "\n",
    "    dataset = ProductTestSet(df)\n",
    "\n",
    "    im.train_knn(dataset)\n",
    "\n",
    "    match_predictions = list()\n",
    "    for embedding, label in tqdm(dataset):\n",
    "        distances, indices = im.get_nearest_neighbors(embedding.unsqueeze(0), k=50)\n",
    "        indices = indices[0]\n",
    "\n",
    "        matches = list()\n",
    "        for i in indices:\n",
    "            if im.is_match(embedding.unsqueeze(0), dataset[i.item()][0].unsqueeze(0)):\n",
    "                matches.append(df.iloc[i.item()][\"posting_id\"])\n",
    "        match_predictions.append(\" \".join(matches))\n",
    "\n",
    "    df[\"predictions\"] = match_predictions\n",
    "    return df"
   ]
  },
  {
   "cell_type": "code",
   "execution_count": 7,
   "id": "243d87fa-b3d9-4bef-a857-3f89684e4469",
   "metadata": {},
   "outputs": [
    {
     "name": "stderr",
     "output_type": "stream",
     "text": [
      "100%|███████████████████████████████████████████████████████████████████████████████████████████████████████████████████████| 20952/20952 [10:09<00:00, 34.39it/s]\n"
     ]
    }
   ],
   "source": [
    "df = get_predictions(\"train_data.csv\")"
   ]
  },
  {
   "cell_type": "code",
   "execution_count": 8,
   "id": "768516f4-d043-4354-b1ee-0e14c18c7dfe",
   "metadata": {},
   "outputs": [
    {
     "name": "stdout",
     "output_type": "stream",
     "text": [
      "F1 =  0.553785071810349\n"
     ]
    }
   ],
   "source": [
    "print(\"F1 = \", f1_score(df['matches'], df['predictions']).mean())"
   ]
  },
  {
   "cell_type": "code",
   "execution_count": 9,
   "id": "3e805fa1-6821-4a62-96ef-7c2ee8d89b36",
   "metadata": {},
   "outputs": [],
   "source": [
    "df[[\"posting_id\", \"title\", \"matches\", \"predictions\"]].to_csv(\"train_predictions.csv\", index=False)"
   ]
  },
  {
   "cell_type": "code",
   "execution_count": null,
   "id": "f81147e9-e15f-4b7b-bef0-383d99d5a03b",
   "metadata": {},
   "outputs": [],
   "source": []
  },
  {
   "cell_type": "code",
   "execution_count": 10,
   "id": "72177941-6f09-4908-abe6-d91205ee920e",
   "metadata": {},
   "outputs": [
    {
     "name": "stderr",
     "output_type": "stream",
     "text": [
      "100%|███████████████████████████████████████████████████████████████████████████████████████████████████████████████████████| 13494/13494 [05:53<00:00, 38.15it/s]\n"
     ]
    }
   ],
   "source": [
    "df = get_predictions(\"test_data.csv\", test_data=True)"
   ]
  },
  {
   "cell_type": "code",
   "execution_count": 11,
   "id": "03720d72-ec93-4234-909d-c0d5ee183d26",
   "metadata": {},
   "outputs": [],
   "source": [
    "df[[\"posting_id\", \"title\", \"predictions\"]].to_csv(\"submission.csv\", index=False)"
   ]
  },
  {
   "cell_type": "code",
   "execution_count": null,
   "id": "e44863f2-0cac-415c-bc99-d8ff51e1e090",
   "metadata": {},
   "outputs": [],
   "source": []
  }
 ],
 "metadata": {
  "kernelspec": {
   "display_name": "Python 3 (ipykernel)",
   "language": "python",
   "name": "python3"
  },
  "language_info": {
   "codemirror_mode": {
    "name": "ipython",
    "version": 3
   },
   "file_extension": ".py",
   "mimetype": "text/x-python",
   "name": "python",
   "nbconvert_exporter": "python",
   "pygments_lexer": "ipython3",
   "version": "3.8.10"
  }
 },
 "nbformat": 4,
 "nbformat_minor": 5
}
